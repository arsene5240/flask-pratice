from flask import Flask, redirect, url_for, jsonify, request
import json
#from lib.EP_APPROVE_TEST import Prediction_EP_Approve

## 初始化Flask物件，並貼上app這個標籤。接著我們就可以使用物件裡面的各種功能
app = Flask(__name__)

ironman = {
    "id": 1,
    "name": "Tony",
    "nickname": "iron man",
    "nationality": "American",
    "gender": "M",
    "superpower": "n"
}

spiderman = {
    "id": 2,
    "name": "Peter",
    "nickname": "spider man",
    "nationality": "American",
    "gender": "M",
    "superpower": "y"
}

blockwidor = {
    "id": 3,
    "name": "Natasha",
    "nickname": "Block Widow",
    "nationality": "Russia",
    "gender": "F",
    "superpower": "n"
}

avengers = [ironman, spiderman, blockwidor]


@app.route('/avengers/all', methods=['GET'])
def avengers_all():
    return jsonify(avengers)


@app.route('/avengers', methods=['GET'])
def avengers_properties():
    results = []
    nationality = ""
    if 'nationality' in request.args:
        nationality = request.args['nationality']
    else:
        print("no hero")
    for avenger in avengers:
        if avenger['nationality'] == nationality:
            results.append(avenger)
    return jsonify(results)


## 創造出主網域下的 "/ping" 這個網址
@app.route('/ping', methods=['GET'])
## Flask 會自動呼叫緊跟在裝飾項目下宣告的函式(使用者請求相應的網址，就執行函數)
def test():
    return jsonify('pong')


## 透過傳入的 para 設定網域
@app.route('/<int:userID>', methods=['GET'])
def hello(userID):
    return 'The user ID is: {}'.format(userID)


@app.route('/main', methods=['GET'])
def index():
    # 導向登入頁面的 url
    login_url = url_for('login')
    return redirect(login_url)


@app.route('/login', methods=['GET'])
def login():
    return '這是登入頁面'


@app.route('/get_data', methods=['POST'])
def get_data():
    json_para = request.get_data()
    return json_para


## 傳入 host 參數可以指定允許訪問的主機IP，0.0.0.0 為所有主機的意思，而後面則是自訂網路埠號的參數
if __name__ == '__main__':
    app.run(host='0.0.0.0', port=3000, debug=True)

## 進入 py 檔案位置的終端機
## 如果檔案名為 app.py ，那麼不需要設置 FLASK_APP 環境變量
## Windows
## set FLASK_APP = flask_ex.py
## Linux/macOS
## export FLASK_APP = flask_ex.py
## flask run --reload --debugger --host 0.0.0.0 --port 80
## method post get
## 待學習　render_template() 當我們想要傳回 HTML 時，我們會暫時使用 render_template
'''
import requests
URL = "http://127.0.0.1:5000/avengers?nationality=American"
r = requests.get(url=URL)
print(r.text)

json_params = {'nationality': 'American'}
URL = "http://127.0.0.1:5000/avengers"
# 將查詢參數加入 GET 請求中
r = requests.get(url=URL, params=json_params)
print(r.url)
print(r.text)

URL = 'http://127.0.0.1:5000/get_data'
data = {'key1': 'value1', 'key2': 'value2'}
r = requests.post(url=URL, data = data)
print(r.text)
'''